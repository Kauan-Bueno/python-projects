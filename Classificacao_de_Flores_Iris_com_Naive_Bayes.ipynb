{
  "nbformat": 4,
  "nbformat_minor": 0,
  "metadata": {
    "colab": {
      "provenance": [],
      "authorship_tag": "ABX9TyO49iB2AjAQYbOn5x+/nEzw"
    },
    "kernelspec": {
      "name": "python3",
      "display_name": "Python 3"
    },
    "language_info": {
      "name": "python"
    }
  },
  "cells": [
    {
      "cell_type": "code",
      "execution_count": null,
      "metadata": {
        "colab": {
          "base_uri": "https://localhost:8080/"
        },
        "id": "PfrIhcfohOy3",
        "outputId": "891dc4eb-470c-47d9-b597-270e46863e40"
      },
      "outputs": [
        {
          "output_type": "stream",
          "name": "stdout",
          "text": [
            "Acurácia do modelo: 1.0\n",
            "\n",
            "Relatório de classificação:\n",
            "              precision    recall  f1-score   support\n",
            "\n",
            "      setosa       1.00      1.00      1.00        10\n",
            "  versicolor       1.00      1.00      1.00         9\n",
            "   virginica       1.00      1.00      1.00        11\n",
            "\n",
            "    accuracy                           1.00        30\n",
            "   macro avg       1.00      1.00      1.00        30\n",
            "weighted avg       1.00      1.00      1.00        30\n",
            "\n"
          ]
        }
      ],
      "source": [
        "\n",
        "# Importar as bibliotecas necessárias\n",
        "from sklearn.datasets import load_iris  # Importar função para carregar conjunto de dados Iris\n",
        "from sklearn.model_selection import train_test_split  # Importar função para dividir dados em treinamento e teste\n",
        "from sklearn.naive_bayes import GaussianNB  # Importar classificador Naive Bayes Gaussiano\n",
        "from sklearn.metrics import accuracy_score, classification_report  # Importar métricas de avaliação\n",
        "\n",
        "# Carregar o conjunto de dados Iris\n",
        "iris = load_iris()  # Carregar conjunto de dados Iris\n",
        "\n",
        "# Dividir o conjunto de dados em dados de treinamento e teste\n",
        "X_train, X_test, y_train, y_test = train_test_split(iris.data, iris.target, test_size=0.2, random_state=42)  # Dividir dados em treinamento e teste\n",
        "\n",
        "# Inicializar o classificador Naive Bayes Gaussiano\n",
        "gnb = GaussianNB()  # Inicializar classificador Naive Bayes Gaussiano\n",
        "\n",
        "# Treinar o classificador usando os dados de treinamento\n",
        "gnb.fit(X_train, y_train)  # Treinar o classificador\n",
        "\n",
        "# Fazer previsões nos dados de teste\n",
        "y_pred = gnb.predict(X_test)  # Fazer previsões\n",
        "\n",
        "# Calcular a acurácia do modelo\n",
        "accuracy = accuracy_score(y_test, y_pred)  # Calcular a precisão do modelo\n",
        "print(\"Acurácia do modelo:\", accuracy)  # Imprimir o quão preciso é\n",
        "\n",
        "# Imprimir o relatório de classificação\n",
        "print(\"\\nRelatório de classificação:\")\n",
        "print(classification_report(y_test, y_pred, target_names=iris.target_names))  # Imprimir a classificação\n"
      ]
    }
  ]
}