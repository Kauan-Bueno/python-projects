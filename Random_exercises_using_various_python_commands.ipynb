{
  "nbformat": 4,
  "nbformat_minor": 0,
  "metadata": {
    "colab": {
      "provenance": [],
      "authorship_tag": "ABX9TyOrprD0WjIy5c2s9BCsvjbd"
    },
    "kernelspec": {
      "name": "python3",
      "display_name": "Python 3"
    },
    "language_info": {
      "name": "python"
    }
  },
  "cells": [
    {
      "cell_type": "code",
      "execution_count": null,
      "metadata": {
        "colab": {
          "base_uri": "https://localhost:8080/"
        },
        "id": "zWAcqWPu1R-F",
        "outputId": "31d026fd-c2da-4462-aff2-b505348881c6"
      },
      "outputs": [
        {
          "output_type": "stream",
          "name": "stdout",
          "text": [
            "2\n",
            "Chevette\n"
          ]
        }
      ],
      "source": [
        "array = [5,10,13,2,8]\n",
        "carros = [\"Gol\",\"Monza\",\"Chevette\",\"Fiat 147\"]\n",
        "\n",
        "menor = array[3]\n",
        "melhor = carros[2]\n",
        "print(menor)\n",
        "print(melhor)"
      ]
    },
    {
      "cell_type": "code",
      "source": [
        "array = [5,10,13,2,8]\n",
        "carros = [\"Gol\",\"Monza\",\"Chevette\",\"Fiat 147\"]\n",
        "for valor in carros:\n",
        "  print(valor,end=\", \")"
      ],
      "metadata": {
        "colab": {
          "base_uri": "https://localhost:8080/"
        },
        "id": "jz2T6exj21I8",
        "outputId": "2fbb75cb-b738-423b-db0f-9fc911dfc6cf"
      },
      "execution_count": null,
      "outputs": [
        {
          "output_type": "stream",
          "name": "stdout",
          "text": [
            "Gol, Monza, Chevette, Fiat 147, "
          ]
        }
      ]
    },
    {
      "cell_type": "code",
      "source": [
        "inteiros = [3,6,2,9]\n",
        "soma = 0\n",
        "\n",
        "for num in inteiros:\n",
        "  soma += num     # soma = soma+ num\n",
        "\n",
        "print(\"Saída:\",soma)"
      ],
      "metadata": {
        "colab": {
          "base_uri": "https://localhost:8080/"
        },
        "id": "8phXNwJHiu56",
        "outputId": "c063137b-797b-48b7-df7f-1b48868e9646"
      },
      "execution_count": null,
      "outputs": [
        {
          "output_type": "stream",
          "name": "stdout",
          "text": [
            "Saída: 20\n"
          ]
        }
      ]
    },
    {
      "cell_type": "code",
      "source": [
        "def cal_soma(vetor):\n",
        "  soma = sum(vetor)\n",
        "  return soma\n",
        "\n",
        "vetor = [3,6,2,9]\n",
        "resultado = cal_soma(vetor)\n",
        "print(\"Saída:\",resultado)"
      ],
      "metadata": {
        "colab": {
          "base_uri": "https://localhost:8080/"
        },
        "id": "MGhb6jutj9mB",
        "outputId": "8dd89b85-9bbd-478c-b8b7-636e9537946b"
      },
      "execution_count": null,
      "outputs": [
        {
          "output_type": "stream",
          "name": "stdout",
          "text": [
            "Saída: 20\n"
          ]
        }
      ]
    },
    {
      "cell_type": "code",
      "source": [
        "\n",
        "def vetor_numeros(nums):\n",
        "    for i in range(1, len(nums)):\n",
        "      if nums[i] < nums[i - 1]:\n",
        "        return False\n",
        "      return True\n",
        "vetor_padrao = [2, 4, 6, 8, 10]\n",
        "result = vetor_numeros(vetor_padrao)\n",
        "if result:\n",
        "    print(\"A ordem é crescente.\")\n",
        "else:\n",
        "    print(\"A ordem não é crescente.\")"
      ],
      "metadata": {
        "id": "q-HT3x9QnMiy",
        "colab": {
          "base_uri": "https://localhost:8080/"
        },
        "outputId": "f597a8cd-7eb9-4775-c8d5-a2f9616454f2"
      },
      "execution_count": null,
      "outputs": [
        {
          "output_type": "stream",
          "name": "stdout",
          "text": [
            "A ordem é crescente.\n"
          ]
        }
      ]
    },
    {
      "cell_type": "code",
      "source": [
        "array = [5,10,13,2,8]\n",
        "carros = [\"Gol\",\"Monza\",\"Chevette\",\"Fiat 147\"]\n",
        "\n",
        "menor = array [3] ##a contagem começa pelo 0, nesse caso o terceiro número é o 2 ali no array\n",
        "melhor = carros[2]\n",
        "print(menor)\n",
        "print(melhor)\n",
        "\n",
        "\n",
        "\n",
        "array = [5,10,13,2,8]\n",
        "carros = [\"Gol\",\"Monza\",\"Chevette\",\"Fiat 147\"]\n",
        "\n",
        "for valor in carros:\n",
        "  print(valor,end=\", \")\n",
        "\n",
        "\n",
        "inteiros = [3,6,2,9]\n",
        "soma = 0\n",
        "\n",
        "for num in inteiros:\n",
        "  soma += num # soma = soma + num\n",
        "\n",
        "print(\"Saída: \",soma)\n",
        "\n",
        "\n",
        "\n",
        "def cal_soma(vetor):\n",
        "  soma = sum(vetor)\n",
        "  return soma\n",
        "\n",
        "vetor = [3,6,2,9]\n",
        "resultado = cal_soma(vetor)\n",
        "print(\"Saída: \",resultado)\n",
        "\n",
        "\n",
        "\n",
        "\n",
        "alunos = int(input(\"Insira o número de alunos : \"))\n",
        "info = input(\"Insira as notas de cada aluno separadas por espaço: \")\n",
        "notas = [float(nota) for in info.str.split()]\n",
        "\n",
        "soma_notas = sum(notas)\n",
        "media = soma_notas / alunos\n",
        "\n",
        "print(\"A média das notas dos alunos é: \",media)\n",
        "\n"
      ],
      "metadata": {
        "id": "7phe8-4kmh-s"
      },
      "execution_count": null,
      "outputs": []
    },
    {
      "cell_type": "code",
      "source": [
        "\n",
        "def main():\n",
        "\n",
        "    nome = input(\"Digite seu nome: \")\n",
        "\n",
        "    destinos = [\"Praia\", \"Montanha\", \"Cidade\"]\n",
        "\n",
        "    print(\"Opções de destinos:\")\n",
        "    for i, destino in enumerate(destinos, start=1):\n",
        "        print(f\"{i} - {destino}\")\n",
        "\n",
        "    escolha = input(\"Digite o nome do destino desejado: \")\n",
        "\n",
        "    if escolha in destinos:\n",
        "        print(f\"{nome}, você selecionou o destino: {escolha}\")\n",
        "    else:\n",
        "        print(\"Destino inválido.\")\n",
        "if __name__ == \"__main__\":\n",
        "    main()\n"
      ],
      "metadata": {
        "colab": {
          "base_uri": "https://localhost:8080/"
        },
        "id": "sO62m6i8mr3L",
        "outputId": "d5e8d995-8758-4330-d4c5-eb8d4aacb22a"
      },
      "execution_count": null,
      "outputs": [
        {
          "output_type": "stream",
          "name": "stdout",
          "text": [
            "Digite seu nome: Kauan\n",
            "Opções de destinos:\n",
            "1 - Praia\n",
            "2 - Montanha\n",
            "3 - Cidade\n",
            "Digite o nome do destino desejado: Praia\n",
            "Kauan, você selecionou o destino: Praia\n"
          ]
        }
      ]
    },
    {
      "cell_type": "code",
      "source": [
        "\n",
        "def main():\n",
        "    livros = [\n",
        "        \"Livro 1\",\n",
        "        \"Livro 2\",\n",
        "        \"Livro 3\",\n",
        "        \"Livro 4\",\n",
        "        \"Livro 5\",\n",
        "        \"Livro 6\",\n",
        "        \"Livro 7\",\n",
        "        \"Livro 8\",\n",
        "        \"Livro 9\",\n",
        "        \"Livro 10\"\n",
        "    ]\n",
        "    print(\"Livros disponíveis:\")\n",
        "    for i, livro in enumerate(livros, start=1):\n",
        "        print(f\"{i} - {livro}\")\n",
        "\n",
        "    nome = input(\"Nome do solicitante do empréstimo: \")\n",
        "\n",
        "    escolha = input(\"Digite o nome do livro desejado: \")\n",
        "\n",
        "    if escolha in livros:\n",
        "        print(f\"{nome}, você selecionou o {escolha}.\")\n",
        "    else:\n",
        "        print(\"Livro inválido.\")\n",
        "if __name__ == \"__main__\":\n",
        "    main()\n"
      ],
      "metadata": {
        "colab": {
          "base_uri": "https://localhost:8080/"
        },
        "id": "FjLJW3je-nAO",
        "outputId": "961a4182-00fa-4dce-bfd3-4616db7f4630"
      },
      "execution_count": null,
      "outputs": [
        {
          "output_type": "stream",
          "name": "stdout",
          "text": [
            "Livros disponíveis:\n",
            "1 - Livro 1\n",
            "2 - Livro 2\n",
            "3 - Livro 3\n",
            "4 - Livro 4\n",
            "5 - Livro 5\n",
            "6 - Livro 6\n",
            "7 - Livro 7\n",
            "8 - Livro 8\n",
            "9 - Livro 9\n",
            "10 - Livro 10\n",
            "Nome do solicitante do empréstimo: Kauan\n",
            "Digite o nome do livro desejado: Livro 4\n",
            "Kauan, você selecionou o Livro 4.\n"
          ]
        }
      ]
    },
    {
      "cell_type": "code",
      "source": [
        "\n",
        "def main():\n",
        "    frutas = [\n",
        "        \"Maçã\",\n",
        "        \"Banana\",\n",
        "        \"Laranja\",\n",
        "        \"Pera\",\n",
        "        \"Uva\",\n",
        "        \"Manga\",\n",
        "        \"Abacaxi\",\n",
        "        \"Morango\",\n",
        "        \"Melancia\",\n",
        "        \"Cereja\"\n",
        "    ]\n",
        "    print(\"Lista de frutas disponíveis:\")\n",
        "    for i, fruta in enumerate(frutas, start=1):\n",
        "        print(f\"{i} - {fruta}\")\n",
        "\n",
        "    nome = input(\"Digite o nome do solicitante: \")\n",
        "\n",
        "    escolha = input(\"Digite o nome da fruta desejada: \")\n",
        "\n",
        "    if escolha in frutas:\n",
        "        print(f\"{nome}, você selecionou a fruta: {escolha}\")\n",
        "    else:\n",
        "        print(\"Fruta inválida.\")\n",
        "if __name__ == \"__main__\":\n",
        "    main()\n"
      ],
      "metadata": {
        "colab": {
          "base_uri": "https://localhost:8080/"
        },
        "id": "bXQmasYZBOKj",
        "outputId": "06116a07-2f7a-4cfb-c0fc-5c7b4de452a1"
      },
      "execution_count": null,
      "outputs": [
        {
          "output_type": "stream",
          "name": "stdout",
          "text": [
            "Lista de frutas disponíveis:\n",
            "1 - Maçã\n",
            "2 - Banana\n",
            "3 - Laranja\n",
            "4 - Pera\n",
            "5 - Uva\n",
            "6 - Manga\n",
            "7 - Abacaxi\n",
            "8 - Morango\n",
            "9 - Melancia\n",
            "10 - Cereja\n",
            "Digite o nome do solicitante: Kauan\n",
            "Digite o nome da fruta desejada: Abacaxi\n",
            "Kauan, você selecionou a fruta: Abacaxi\n"
          ]
        }
      ]
    },
    {
      "cell_type": "code",
      "source": [
        "#manipulaçãode arquivos\n",
        "import pandas as pd\n",
        "\n",
        "dados = pd.read_excel(\"Primeira aula.xlsx\")\n",
        "print(dados)"
      ],
      "metadata": {
        "colab": {
          "base_uri": "https://localhost:8080/"
        },
        "id": "wAx82YEtt7SK",
        "outputId": "60bade28-99ec-4324-85ba-ddfc87f455e0"
      },
      "execution_count": null,
      "outputs": [
        {
          "output_type": "stream",
          "name": "stdout",
          "text": [
            "            Nome  Idade  Nota\n",
            "0  Fabiano Alves     35    10\n",
            "1         Edilma     28     8\n",
            "2          Breno     17    10\n",
            "3          Bauer     30     5\n"
          ]
        }
      ]
    },
    {
      "cell_type": "code",
      "source": [
        "\n",
        "media_nota = dados[\"Nota\"].mean()\n",
        "print(media_nota)"
      ],
      "metadata": {
        "colab": {
          "base_uri": "https://localhost:8080/"
        },
        "id": "iNxr1EZ0wKec",
        "outputId": "14263b36-f444-4223-cbca-48dbca745bfd"
      },
      "execution_count": null,
      "outputs": [
        {
          "output_type": "stream",
          "name": "stdout",
          "text": [
            "8.25\n"
          ]
        }
      ]
    },
    {
      "cell_type": "code",
      "source": [
        "\n",
        "import pandas as pd\n",
        "import matplotlib.pyplot as plt\n",
        "\n",
        "\n",
        "dados = pd.read_excel(\"Primeira aula.xlsx\")\n",
        "\n",
        "media_nota1 = dados[\"Nota1\"].mean()\n",
        "media_nota2 = dados[\"Nota2\"].mean()\n",
        "media_nota3 = dados[\"Nota3\"].mean()\n",
        "media_nota4 = dados[\"Nota4\"].mean()\n",
        "\n",
        "print(media_nota1, media_nota2, media_nota3, media_nota4)"
      ],
      "metadata": {
        "id": "xA0MaMMp8Q6R"
      },
      "execution_count": null,
      "outputs": []
    },
    {
      "cell_type": "code",
      "source": [
        "\n",
        "import pandas as pd\n",
        "import matplotlib.pyplot as plt\n",
        "\n",
        "dados = pd.read_excel(\"av2 kaua.xlsx\")\n",
        "print(dados)"
      ],
      "metadata": {
        "colab": {
          "base_uri": "https://localhost:8080/"
        },
        "id": "ThZfN_hfxSXA",
        "outputId": "b05a8f23-f164-46f5-c422-5444f6135ed2"
      },
      "execution_count": null,
      "outputs": [
        {
          "output_type": "stream",
          "name": "stdout",
          "text": [
            "         Time  Pontos  Vitória  Saldos de Gols  Derrotas  Gols Marcados\n",
            "0    Botafogo      51       16              26         3             39\n",
            "1   Palmeiras      41       11              20         3             37\n",
            "2      Grêmio      39       12               9         6             34\n",
            "3    Flamengo      39       11               9         5             36\n",
            "4  Fluminense      38       11               9         6             31\n"
          ]
        }
      ]
    },
    {
      "cell_type": "code",
      "source": [
        "times = dados[\"Time\"]\n",
        "gols_marcados = dados[\"Gols Marcados\"]\n",
        "pontos = dados[\"Pontos\"]\n",
        "\n",
        "print(times, pontos, gols_marcados)"
      ],
      "metadata": {
        "colab": {
          "base_uri": "https://localhost:8080/"
        },
        "id": "EmWxIVc7zH4G",
        "outputId": "458e9488-8597-4ff9-baaa-91676e971e36"
      },
      "execution_count": null,
      "outputs": [
        {
          "output_type": "stream",
          "name": "stdout",
          "text": [
            "0      Botafogo\n",
            "1     Palmeiras\n",
            "2        Grêmio\n",
            "3      Flamengo\n",
            "4    Fluminense\n",
            "Name: Time, dtype: object 0    51\n",
            "1    41\n",
            "2    39\n",
            "3    39\n",
            "4    38\n",
            "Name: Pontos, dtype: int64 0    39\n",
            "1    37\n",
            "2    34\n",
            "3    36\n",
            "4    31\n",
            "Name: Gols Marcados, dtype: int64\n"
          ]
        }
      ]
    },
    {
      "cell_type": "code",
      "source": [
        "\n",
        "vetgols = [gols_marcados]\n",
        "vetpontos = [pontos]\n",
        "\n",
        "plt.plot(vetpontos,vetgols, marker='1', linestyle='-', color='g')\n",
        "\n",
        "plt.title(\"Tabela Brasileirão\")\n",
        "\n",
        "plt.xlabel(\"Gols Marcados\")\n",
        "plt.ylabel(\"Pontos\")\n",
        "\n",
        "plt.show()"
      ],
      "metadata": {
        "colab": {
          "base_uri": "https://localhost:8080/",
          "height": 472
        },
        "id": "_pqHIC_D7IVW",
        "outputId": "04b4c323-e630-4326-b767-72bc6ce58d93"
      },
      "execution_count": null,
      "outputs": [
        {
          "output_type": "display_data",
          "data": {
            "text/plain": [
              "<Figure size 640x480 with 1 Axes>"
            ],
            "image/png": "[encoded data removed]"
          },
          "metadata": {}
        }
      ]
    },
    {
      "cell_type": "code",
      "source": [
        "class cadastro:\n",
        "  nome = \"Fabiano Alves\"\n",
        "  idade = 35\n",
        "\n",
        "a = cadastro()\n",
        "print(a.nome)\n",
        "print(a.idade)\n",
        "#o ponto significa que você está acessando uma informação dentro de \"cadastro\"\n",
        "#nesse caso, nome e idade"
      ],
      "metadata": {
        "colab": {
          "base_uri": "https://localhost:8080/"
        },
        "id": "AdT2Qwev7YnT",
        "outputId": "19515ddc-a564-4129-8f15-a9e947a248eb"
      },
      "execution_count": null,
      "outputs": [
        {
          "output_type": "stream",
          "name": "stdout",
          "text": [
            "Fabiano Alves\n",
            "35\n"
          ]
        }
      ]
    },
    {
      "cell_type": "code",
      "source": [
        "class Cadastro2:\n",
        "  def __init__(self, nome, idade):\n",
        "    self.nome = nome\n",
        "    self.idade = idade\n",
        "\n",
        "  def saudacao(self):\n",
        "    print(\"Bem vindo\",self.nome)\n",
        "    print(\"Você tem\",self.idade,\"anos de idade\")\n",
        "\n",
        "vnome = input(\"Digite o seu nome\")\n",
        "vidade = input(\"Digite a sua idade\")\n",
        "\n",
        "inst = Cadastro2(vnome,vidade)\n",
        "inst.saudacao()"
      ],
      "metadata": {
        "colab": {
          "base_uri": "https://localhost:8080/"
        },
        "id": "G4xMxTue-3Wr",
        "outputId": "6437b336-d785-4ca8-8dc7-6c4fe83148a7"
      },
      "execution_count": null,
      "outputs": [
        {
          "output_type": "stream",
          "name": "stdout",
          "text": [
            "Digite o seu nomeFàbio\n",
            "Digite a sua idade35\n",
            "Bem vindo Fàbio\n",
            "Você tem 35 anos de idade\n"
          ]
        }
      ]
    },
    {
      "cell_type": "code",
      "source": [
        "b = Cadastro2(\"Fabiano Alves de Souza\",35)\n",
        "print(b.nome)\n",
        "print(b.idade)\n",
        "\n",
        "# __init__(self) é obrigatòrio"
      ],
      "metadata": {
        "colab": {
          "base_uri": "https://localhost:8080/"
        },
        "id": "K-6dxFaSCfjO",
        "outputId": "bd6592d9-6b81-44c3-a2f7-db842d25ed31"
      },
      "execution_count": null,
      "outputs": [
        {
          "output_type": "stream",
          "name": "stdout",
          "text": [
            "Fabiano Alves de Souza\n",
            "35\n"
          ]
        }
      ]
    },
    {
      "cell_type": "code",
      "source": [
        "\n",
        "'''\n",
        "1 - Insira mais métodos a sua escolha no exercício anterior.\n",
        "Atribua valores a esses métodos e execute-os\n",
        "\n",
        "2 -\n",
        "'''\n",
        "class Cadastro2:\n",
        "  def __init__(self, nome, idade):\n",
        "    self.nome = nome\n",
        "    self.idade = idade\n",
        "\n",
        "  def saudacao(self):\n",
        "    print(\"Bem vindo\",self.nome)\n",
        "    print(\"Você tem\",self.idade,\"anos de idade\")\n",
        "\n",
        "  def verifica_idade(self):\n",
        "    if int(self.idade) >= 18:\n",
        "      print(\"Você é maior de idade. \")\n",
        "    else:\n",
        "      print(\"Você é menor de idade.\")\n",
        "\n",
        "vnome = input(\"Digite o seu nome: \")\n",
        "vidade = input(\"Digite sua idade: \")\n",
        "\n",
        "inst = Cadastro2(vnome,vidade)\n",
        "inst.saudacao()\n",
        "inst.verifica_idade()"
      ],
      "metadata": {
        "id": "xioERSzyC8jU",
        "colab": {
          "base_uri": "https://localhost:8080/"
        },
        "outputId": "2c738306-5535-4732-d19c-093cddd8f43e"
      },
      "execution_count": null,
      "outputs": [
        {
          "output_type": "stream",
          "name": "stdout",
          "text": [
            "Digite o seu nome: Kauan\n",
            "Digite sua idade: 17\n",
            "Bem vindo Kauan\n",
            "Você tem 17 anos de idade\n",
            "Você é menor de idade.\n"
          ]
        }
      ]
    },
    {
      "cell_type": "code",
      "source": [
        "\n",
        "class Retaaangulo:\n",
        "  def __init__(self, largura, altura):\n",
        "    self.largura = largura\n",
        "    self.altura = altura\n",
        "\n",
        "  def perimetro(self):\n",
        "      perimetro = (self.largura * 2) + (self.altura * 2)\n",
        "      print(\"O perímetro é \", perimetro)\n",
        "\n",
        "\n",
        "  def area(self):\n",
        "      area = self.largura * self.altura\n",
        "      print(\"A área é \", area)\n",
        "\n",
        "\n",
        "\n",
        "vlargura = int(input(\"Digite a largura: \"))\n",
        "valtura = int(input(\"Digite a altura: \"))\n",
        "\n",
        "inst = Retaaangulo(vlargura,valtura)\n",
        "inst.perimetro()\n",
        "inst.area()"
      ],
      "metadata": {
        "id": "M616nMeFGDDX",
        "colab": {
          "base_uri": "https://localhost:8080/"
        },
        "outputId": "14e4d7ff-93de-4e08-8f16-8251868cac25"
      },
      "execution_count": null,
      "outputs": [
        {
          "output_type": "stream",
          "name": "stdout",
          "text": [
            "Digite a largura: 2\n",
            "Digite a altura: 3\n",
            "O perímetro é  10\n",
            "A área é  6\n"
          ]
        }
      ]
    },
    {
      "cell_type": "code",
      "source": [
        "\n",
        "class ContaBancaria1:\n",
        "  def __init__(self, titular, saldo, result = 0):\n",
        "    self.titular = titular\n",
        "    self.saldo = saldo\n",
        "    self.result = result\n",
        "\n",
        "  def depositar(self, valor):\n",
        "    self.result = self.saldo + valor\n",
        "    print(\"Seu novo saldo após o deposito de 1504 é: \", (self.result))\n",
        "\n",
        "  def sacar(self, valor):\n",
        "    self.result = self.result - valor\n",
        "    print(f\"Você sacou {valor} reais\")\n",
        "\n",
        "  def consultar_saldo(self):\n",
        "\n",
        "      print(f\"Agora o seu saudo atual é de {self.result} reais\")\n",
        "\n",
        "\n",
        "vtitular = input(\"Digite o seu nome: \")\n",
        "vsaldo = int(input(\"Digite seu saldo bancário: \"))\n",
        "\n",
        "\n",
        "inst = ContaBancaria1(vtitular,vsaldo,)\n",
        "inst.depositar(1504)\n",
        "inst.sacar(200)\n",
        "inst.consultar_saldo()"
      ],
      "metadata": {
        "id": "IcukHNh8NwWo",
        "colab": {
          "base_uri": "https://localhost:8080/"
        },
        "outputId": "f5aed3c6-7631-47c9-c08d-90c762826529"
      },
      "execution_count": null,
      "outputs": [
        {
          "output_type": "stream",
          "name": "stdout",
          "text": [
            "Digite o seu nome: Kauan Bueno e Luiz Otavio\n",
            "Digite seu saldo bancário: 550\n",
            "Seu novo saldo após o deposito de 1504 é:  2054\n",
            "Você sacou 200 reais\n",
            "Agora o seu saudo atual é de 1854 reais\n"
          ]
        }
      ]
    },
    {
      "cell_type": "code",
      "source": [
        "\n",
        "class Livro:\n",
        "  def __init__(self, titulo, autor, total_paginas, pagina_atual = 0):\n",
        "    self.titulo = titulo\n",
        "    self.autor = autor\n",
        "    self.total_paginas = total_paginas\n",
        "    self.pagina_atual = pagina_atual\n",
        "\n",
        "  def virar_pagina(self):\n",
        "    if (self.pagina_atual) <= self.total_paginas: self.pagina_atual + 1\n",
        "    print(f\"Você virou uma pagina\")\n",
        "\n",
        "\n",
        "  def voltar_pagina(self):\n",
        "    if int(self.pagina_atual) > 1: {self.pagina_atual - 1}\n",
        "    print(f\"Você voltou uma pagina e agora esta na {self.pagina_atual}\")\n",
        "\n",
        "\n",
        "vtitulo = input(\"Digite o titulo do livro: \")\n",
        "vautor = input(\"Digite o autor d livro: \")\n",
        "vtotal_paginas = int(input(\"Digite o total de páginas do livro: \"))\n",
        "vpagina_atual = int(input(\"Digite a pagina atual em qque está no livro: \"))\n",
        "\n",
        "inst = Livro(vtitulo,vautor,vtotal_paginas,vpagina_atual)\n",
        "inst.virar_pagina()\n",
        "inst.voltar_pagina()"
      ],
      "metadata": {
        "id": "TD99bCsmNzgg",
        "colab": {
          "base_uri": "https://localhost:8080/"
        },
        "outputId": "0db4d60b-45af-408d-bc81-135d3f7fafd4"
      },
      "execution_count": null,
      "outputs": [
        {
          "output_type": "stream",
          "name": "stdout",
          "text": [
            "Digite o titulo do livro: o milionario da caaverna\n",
            "Digite o autor d livro: benjamin\n",
            "Digite o total de páginas do livro: 500\n",
            "Digite a pagina atual em qque está no livro: 498\n",
            "Você virou uma pagina\n",
            "Você voltou uma pagina e agora esta na 498\n"
          ]
        }
      ]
    },
    {
      "cell_type": "code",
      "source": [
        "\n",
        "\n",
        "class Retangulo:\n",
        "  def __init__(self,largura,altura):\n",
        "    self.largura = largura\n",
        "    self.altura = altura\n",
        "\n",
        "  def area(self):\n",
        "    return self.largura * self.altura\n",
        "\n",
        "  def perimetro(self):\n",
        "    return 2 * (self.largura + self.altura)\n",
        "\n",
        "###### testar\n",
        "retangulo = Retangulo(10,20)\n",
        "print(f\"Area do retângulo: {retangulo.area()}\")\n",
        "print(f\"Perímetro do retângulo: {retangulo.perimetro()}\")"
      ],
      "metadata": {
        "id": "QwI6a83iI7Vv"
      },
      "execution_count": null,
      "outputs": []
    },
    {
      "cell_type": "code",
      "source": [
        "\n",
        "class Livro:\n",
        "  def __init__(self, titulo, autor, total_paginas, pagina_atual): #adição dos nomes das variaveis utilizadas\n",
        "    self.titulo = titulo #def da variavel\n",
        "    self.autor = autor #def da variavel\n",
        "    self.total_paginas = total_paginas #def da variavel\n",
        "    self.pagina_atual = 1 #def da variavel\n",
        "\n",
        "  def virar_pagina(self):#def da acao\n",
        "    if self.pagina_atual < self.total_paginas:#condicao para acontecer\n",
        "      self.pagina_atual += 1 #adição da pagina virada\n",
        "      print(f\"Virando a página: Você está na página {self.pagina_atual}\")#print do resultado\n",
        "\n",
        "  def voltar_pagina(self):####definicao d aacao\n",
        "    if self.pagina_atual > 1: #condicao para acontecer\n",
        "      self.pagina_atual -= 1 #retirar um da quantidade\n",
        "      print(f\"Voltando a página: Você está na página {self.pagina_atual}\")#print do resultado\n",
        "\n",
        "livro = Livro(\"Três porquinhos\",\"Lorenzo\",2,1)#adicao do conteúdo dos livros\n",
        "livro.virar_pagina() #retorno\n",
        "livro.virar_pagina() #retorno\n",
        "livro.voltar_pagina() #retorno"
      ],
      "metadata": {
        "colab": {
          "base_uri": "https://localhost:8080/"
        },
        "id": "cJVGstgpOb_3",
        "outputId": "70dd79cd-f780-4e78-a5e2-71cfe7af600b"
      },
      "execution_count": null,
      "outputs": [
        {
          "output_type": "stream",
          "name": "stdout",
          "text": [
            "Virando a página: Você está na página 2\n",
            "Voltando a página: Você está na página 1\n"
          ]
        }
      ]
    },
    {
      "cell_type": "code",
      "source": [],
      "metadata": {
        "id": "IPag3U_GR5lf"
      },
      "execution_count": null,
      "outputs": []
    }
  ]
}