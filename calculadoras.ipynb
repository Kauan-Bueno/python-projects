{
  "nbformat": 4,
  "nbformat_minor": 0,
  "metadata": {
    "colab": {
      "provenance": [],
      "authorship_tag": "ABX9TyMW+RuofFxuSvfVBE1OXC+c"
    },
    "kernelspec": {
      "name": "python3",
      "display_name": "Python 3"
    },
    "language_info": {
      "name": "python"
    }
  },
  "cells": [
    {
      "cell_type": "code",
      "execution_count": null,
      "metadata": {
        "colab": {
          "base_uri": "https://localhost:8080/"
        },
        "id": "yLvbmNtU4kda",
        "outputId": "51817d7e-7062-4481-f075-5e63ede98ad2"
      },
      "outputs": [
        {
          "output_type": "stream",
          "name": "stdout",
          "text": [
            "Digite a velocidade: 85\n",
            "O motorista foi multado em 25.0 reais.\n"
          ]
        }
      ],
      "source": [
        "#Ex1\n",
        "velocidade = float(input(\"Digite a velocidade: \"))\n",
        "multa = (velocidade - 80) * 5\n",
        "if velocidade > 80:\n",
        "  print(\"O motorista foi multado em\" , multa , \"reais.\")\n",
        "else:\n",
        "  print(\" O motorista está abaixo do limite de velocidade\")"
      ]
    },
    {
      "cell_type": "code",
      "source": [
        "#EX2\n",
        "num1 = float(input(\"Digite o primeiro número: \"))\n",
        "num2 = float(input(\"Digite o segundo número: \"))\n",
        "\n",
        "print(\"Operações disponíveis: soma, subtração, multiplicação e divisão\")\n",
        "print(\"Digite 1 para soma, 2 para subtração, 3 para multiplicação e 4 para divisão\")\n",
        "conta = int(input(\"Escolha uma operação: \"))\n",
        "if conta == 1:\n",
        "  resultado = num1 + num2\n",
        "  print(\"O resultado é: \",resultado)\n",
        "elif conta == 2:\n",
        "  resultado = num1 - num2\n",
        "  print(\"O resultado é: \",resultado)\n",
        "elif conta == 3:\n",
        "  resultado = num1 * num2\n",
        "  print(\"O resultado é: \",resultado)\n",
        "elif conta == 4:\n",
        "  resultado = num1 / num2\n",
        "  print(\"O resultado é: \",resultado)\n",
        "else:\n",
        "  print(\"Provavelmente você digitou algo errado\")"
      ],
      "metadata": {
        "colab": {
          "base_uri": "https://localhost:8080/"
        },
        "id": "LAlQV7pV9PsL",
        "outputId": "5a00d0f0-e34a-4c63-9959-d4883af1acd3"
      },
      "execution_count": null,
      "outputs": [
        {
          "output_type": "stream",
          "name": "stdout",
          "text": [
            "Digite o primeiro número: 5\n",
            "Digite o segundo número: 7\n",
            "Operações disponíveis: soma, subtração, multiplicação e divisão\n",
            "Digite 1 para soma, 2 para subtração, 3 para multiplicação e 4 para divisão\n",
            "Escolha uma operação: 1\n",
            "O resultado é:  12.0\n"
          ]
        }
      ]
    }
  ]
}