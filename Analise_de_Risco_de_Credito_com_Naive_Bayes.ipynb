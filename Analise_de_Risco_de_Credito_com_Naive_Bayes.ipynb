{
  "nbformat": 4,
  "nbformat_minor": 0,
  "metadata": {
    "colab": {
      "provenance": [],
      "authorship_tag": "ABX9TyM/a+zx1vcO0yLemj8qGF+s"
    },
    "kernelspec": {
      "name": "python3",
      "display_name": "Python 3"
    },
    "language_info": {
      "name": "python"
    }
  },
  "cells": [
    {
      "cell_type": "code",
      "execution_count": null,
      "metadata": {
        "id": "WUeV8M-RvKxL"
      },
      "outputs": [],
      "source": [
        "\n",
        "# Importa bibliotecas necessárias.\n",
        "from IPython import get_ipython\n",
        "from IPython.display import display\n",
        "import pandas as pd\n",
        "import numpy as np\n",
        "from sklearn.naive_bayes import GaussianNB\n",
        "from sklearn.metrics import confusion_matrix, accuracy_score, precision_score\n",
        "from sklearn.preprocessing import LabelEncoder\n",
        "import matplotlib.pyplot as plt\n",
        "import seaborn as sns\n",
        "\n",
        "# Lê o arquivo CSV \"risco_credito.csv\" e armazena em um DataFrame pandas.\n",
        "base_risco_credito = pd.read_csv(\"/content/risco_credito.csv\")\n",
        "\n",
        "# Divide os dados em variáveis independentes (x) e dependente (y).\n",
        "x_risco_credito = base_risco_credito.iloc[:,0:4].values\n",
        "# define os valores de x para adicionar os dados\n",
        "y_risco_credito = base_risco_credito.iloc[:,4].values\n",
        "# define os valores de y para adicionar os dados\n",
        "\n",
        "# Cria objetos LabelEncoder para codificar variáveis categóricas.\n",
        "label_encoder_historia = LabelEncoder()\n",
        "label_encoder_divida = LabelEncoder()\n",
        "label_encoder_garantia = LabelEncoder()\n",
        "label_encoder_renda = LabelEncoder()\n",
        "\n",
        "# Aplica a codificação para cada coluna categórica.\n",
        "x_risco_credito[:, 0] = label_encoder_historia.fit_transform(x_risco_credito[:, 0])\n",
        "x_risco_credito[:, 1] = label_encoder_divida.fit_transform(x_risco_credito[:, 1])\n",
        "x_risco_credito[:, 2] = label_encoder_garantia.fit_transform(x_risco_credito[:, 2])\n",
        "x_risco_credito[:, 3] = label_encoder_renda.fit_transform(x_risco_credito[:, 3])\n",
        "\n",
        "# Cria um modelo Naive Bayes Gaussiano.\n",
        "naive_risco_credito = GaussianNB()\n",
        "\n",
        "# Treina o modelo com os dados.\n",
        "naive_risco_credito.fit(x_risco_credito, y_risco_credito)\n",
        "\n",
        "# Faz previsões com base nos dados de treinamento.\n",
        "y_pred = naive_risco_credito.predict(x_risco_credito)\n",
        "\n",
        "# Calcula a matriz de confusão.\n",
        "matriz_confusao = confusion_matrix(y_risco_credito,y_pred)\n",
        "\n",
        "# Plota a matriz de confusão como um mapa de calor.\n",
        "plt.figure(figsize=(6,6))\n",
        "sns.heatmap(matriz_confusao, annot=True, fmt='d', cmap='Blues', cbar=False)\n",
        "plt.title('Matriz de Confusão')\n",
        "plt.xlabel('Previsto')\n",
        "plt.ylabel('Real')\n",
        "plt.show()\n",
        "\n",
        "# Calcula e imprime a acurácia do modelo.\n",
        "acuracia = accuracy_score(y_risco_credito, y_pred)\n",
        "print(f\"Acuracia: {acuracia:.2f}\")\n",
        "\n",
        "# Calcula e imprime a precisão do modelo.\n",
        "precisao = precision_score(y_risco_credito, y_pred, average='macro',zero_division=0)\n",
        "print(f\"precisão:{precisao:.2f}\")\n",
        "\n",
        "# Faz previsões para novos dados.\n",
        "previsao = naive_risco_credito.predict([[0,0,1,2], [2,0,0,0]])\n",
        "print(f\"Previsão: {previsao}\")\n",
        "\n",
        "# Imprime cada previsão individualmente.\n",
        "for i, p in enumerate(previsao):\n",
        "    print(f\"Previsão {i+1}: {p}\")"
      ]
    }
  ]
}