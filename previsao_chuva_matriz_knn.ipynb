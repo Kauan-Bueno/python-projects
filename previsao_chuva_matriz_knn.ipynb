{
  "nbformat": 4,
  "nbformat_minor": 0,
  "metadata": {
    "colab": {
      "provenance": [],
      "authorship_tag": "ABX9TyO+RUAPdy8WjgRQN55gYdKg"
    },
    "kernelspec": {
      "name": "python3",
      "display_name": "Python 3"
    },
    "language_info": {
      "name": "python"
    }
  },
  "cells": [
    {
      "cell_type": "code",
      "execution_count": null,
      "metadata": {
        "colab": {
          "base_uri": "https://localhost:8080/"
        },
        "id": "91FqbLcKEeF9",
        "outputId": "875c54cf-64c8-4195-e3a1-f0227fdc4d9a"
      },
      "outputs": [
        {
          "output_type": "stream",
          "name": "stdout",
          "text": [
            "Previsões para os 5 primeiros dados de teste: [1 0 2 2 1]\n",
            "Acurácia: 96.67%\n",
            "Precisão: 96.94%\n",
            "Recall (Sensibilidade): 96.67%\n",
            "Matriz de Confusão:\n",
            "[[10  0  0]\n",
            " [ 0  8  1]\n",
            " [ 0  0 11]]\n",
            "Previsão de chance de chuva para a nova condição: 2\n",
            "\n",
            "Previsões de chuva para os 5 primeiros dados de teste:\n",
            "Previsão 1: Média\n",
            "Previsão 2: Baixa\n",
            "Previsão 3: Alta\n",
            "Previsão 4: Alta\n",
            "Previsão 5: Média\n"
          ]
        }
      ],
      "source": [
        "# Importando\n",
        "import numpy as np\n",
        "from sklearn.model_selection import train_test_split\n",
        "from sklearn.neighbors import KNeighborsClassifier\n",
        "from sklearn.metrics import accuracy_score, precision_score, recall_score, confusion_matrix\n",
        "\n",
        "\n",
        "np.random.seed(42)\n",
        "\n",
        "\n",
        "num_classes = 3  # Classes de chance de chuva: 0 (baixa), 1 (média), 2 (alta)\n",
        "num_features = 4\n",
        "num_samples = 150\n",
        "\n",
        "# dados sintéticos\n",
        "X = np.vstack([\n",
        "    np.random.normal(loc=i, scale=0.5, size=(num_samples // num_classes, num_features))\n",
        "    for i in range(num_classes)\n",
        "])\n",
        "y = np.hstack([[i] * (num_samples // num_classes) for i in range(num_classes)])\n",
        "\n",
        "# (80% treino, 20% teste)\n",
        "X_train, X_test, y_train, y_test = train_test_split(X, y, test_size=0.2, random_state=42)\n",
        "\n",
        "# KNN e o número de vizinhos\n",
        "knn = KNeighborsClassifier(n_neighbors=3)\n",
        "\n",
        "# Treinando o modelo com os dados de treino\n",
        "knn.fit(X_train, y_train)\n",
        "\n",
        "# Realizando previsões nos dados de teste\n",
        "y_pred = knn.predict(X_test)\n",
        "\n",
        "\n",
        "print(\"Previsões para os 5 primeiros dados de teste:\", y_pred[:5])\n",
        "\n",
        "# Calculos\n",
        "accuracy = accuracy_score(y_test, y_pred)\n",
        "precision = precision_score(y_test, y_pred, average='weighted')\n",
        "recall = recall_score(y_test, y_pred, average='weighted')\n",
        "\n",
        "# Exibindo os resultados\n",
        "print(f'Acurácia: {accuracy * 100:.2f}%')\n",
        "print(f'Precisão: {precision * 100:.2f}%')\n",
        "print(f'Recall (Sensibilidade): {recall * 100:.2f}%')\n",
        "\n",
        "# Matriz de confusão\n",
        "print(\"Matriz de Confusão:\")\n",
        "print(confusion_matrix(y_test, y_pred))\n",
        "\n",
        "# previsão condição climática\n",
        "nova_condicao = np.array([[1.5, 2.0, 1.8, 2.2]])  # Características simuladas ------>>>>>(temperatura, umidade, vento, pressão)\n",
        "chance_de_chuva_predita = knn.predict(nova_condicao)\n",
        "print(\"Previsão de chance de chuva para a nova condição:\", chance_de_chuva_predita[0])\n",
        "\n",
        "# Chance de Chuva\n",
        "chances_de_chuva = {0: 'Baixa', 1: 'Média', 2: 'Alta'}\n",
        "y_pred_nomes = [chances_de_chuva[label] for label in y_pred]\n",
        "\n",
        "# Exibindo as previsões de chuva para os primeiros 5 dados\n",
        "print(\"\\nPrevisões de chuva para os 5 primeiros dados de teste:\")\n",
        "for i, previsao in enumerate(y_pred_nomes[:5]):\n",
        "    print(f\"Previsão {i+1}: {previsao}\")\n"
      ]
    }
  ]
}