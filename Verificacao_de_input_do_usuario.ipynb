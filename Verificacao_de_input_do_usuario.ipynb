{
  "nbformat": 4,
  "nbformat_minor": 0,
  "metadata": {
    "colab": {
      "provenance": [],
      "authorship_tag": "ABX9TyPB4WCQyTz0m1s8GAPOheQI"
    },
    "kernelspec": {
      "name": "python3",
      "display_name": "Python 3"
    },
    "language_info": {
      "name": "python"
    }
  },
  "cells": [
    {
      "cell_type": "code",
      "execution_count": null,
      "metadata": {
        "colab": {
          "base_uri": "https://localhost:8080/"
        },
        "id": "PCMhUa528wrB",
        "outputId": "3c6f6ccb-830a-4119-d04b-3169c612072a"
      },
      "outputs": [
        {
          "output_type": "stream",
          "name": "stdout",
          "text": [
            "Digite um nome: 4\n",
            "Digite uma senha: 4\n",
            "Nome igual à senha\n"
          ]
        }
      ],
      "source": [
        "\n",
        "nome = input(\"Digite um nome: \")\n",
        "senha = input(\"Digite uma senha: \")\n",
        "\n",
        "while nome == senha:\n",
        "  print(\"Nome igual à senha\")\n",
        "  break"
      ]
    },
    {
      "cell_type": "code",
      "source": [
        "\n",
        "login = str(input(\"Digite o nome de login: \"))\n",
        "senha = str(input(\"Digite sua senha: \"))\n",
        "\n",
        "while(login == senha):\n",
        "  print(\"ERRO: seu nome deve ser diferente da sua senha\")\n",
        "  login = str(input(\"Digite o nome de login: \"))\n",
        "  senha = str(input(\"Digite sua senha: \"))\n",
        "else:\n",
        "  print(\"Seu login foi feito com sucesso!\")"
      ],
      "metadata": {
        "colab": {
          "base_uri": "https://localhost:8080/"
        },
        "id": "tq4E_dbtBB3b",
        "outputId": "07030457-c5b6-4535-b96e-063084145dda"
      },
      "execution_count": null,
      "outputs": [
        {
          "output_type": "stream",
          "name": "stdout",
          "text": [
            "Digite o nome de login: Kauan\n",
            "Digite sua senha: Kauan\n",
            "ERRO: seu nome deve ser diferente da sua senha\n",
            "Digite o nome de login: Kauan\n",
            "Digite sua senha: Bueno\n",
            "Seu login foi feito com sucesso!\n"
          ]
        }
      ]
    },
    {
      "cell_type": "code",
      "source": [
        "'''\n",
        "programa que irá validar as seguintes informações:\n",
        "a) Nome: Maior que 3 caracteres;\n",
        "b) Idade: entre 0 e 150\n",
        "c) Salário: maior que zero\n",
        "d) Sexo: 'f' ou 'm'\n",
        "e) Estado Civil: 's','c','v','d';\n",
        "\n",
        "função len(string) para saber o tamanho de um texto\n",
        "No ínicio vamos pedir as 5 informações ao usuário\n",
        "Depois vamos usando 5 loopings WHILE para nos certificar se ele forneceu os dados corretos\n",
        "'''\n",
        "nome = str(input(\"Digite o seu nome: \"))\n",
        "idade = int(input(\"Digite a sua idade: \"))\n",
        "salario = float(input(\"Digite o seu salário: \"))\n",
        "sexo = str(input(\"Digite o seu sexo: \"))\n",
        "estadoCivil = str(input(\"Digite o seu estado civil: \"))\n",
        "\n",
        "while len(nome) <= 3:\n",
        "  print(\"Seu nome é invalido\")\n",
        "  nome = str(input(\"Digite o seu nome: \"))\n",
        "else:\n",
        "    print(\"Seu nome é valido\")\n",
        "\n",
        "while idade < 0 and idade > 150:\n",
        "  print(\"Sua idade é invalida\")\n",
        "  idade = int(input(\"Digite sua idade: \"))\n",
        "else:\n",
        "    print(\"Sua idade é valida\")\n",
        "\n",
        "while salario <= 0:\n",
        "  print(\"Sua salario é invalido\")\n",
        "  salario = float(input(\"Digite seu salario: \"))\n",
        "else:\n",
        "    print(\"Seu salario é valido\")\n",
        "\n",
        "while sexo != \"f\" and sexo != \"m\":\n",
        "  print(\"Seu sexo é invalido\")\n",
        "  sexo = str(input(\"Digite seu sexo: \"))\n",
        "else:\n",
        "    print(\"Seu sexo é valido\")\n",
        "\n",
        "while estadoCivil != \"c\" and estadoCivil != \"s\" and estadoCivil != \"d\" and estadoCivil != \"v\":\n",
        "  print(\"Seu estado civil é invalido\")\n",
        "  estadoCivil = str(input(\"Digite o seu estado civil: \"))\n",
        "else:\n",
        "  print(\"Seu estado civil é valido\")"
      ],
      "metadata": {
        "colab": {
          "base_uri": "https://localhost:8080/"
        },
        "id": "qZ3ZxSPsGjsA",
        "outputId": "49358088-3b66-49de-fbf6-c85d8fcda7ae"
      },
      "execution_count": 1,
      "outputs": [
        {
          "output_type": "stream",
          "name": "stdout",
          "text": [
            "Digite o seu nome: Kauan\n",
            "Digite a sua idade: 18\n",
            "Digite o seu salário: 2500\n",
            "Digite o seu sexo: m\n",
            "Digite o seu estado civil: s\n",
            "Seu nome é valido\n",
            "Sua idade é valida\n",
            "Seu salario é valido\n",
            "Seu sexo é valido\n",
            "Seu estado civil é valido\n"
          ]
        }
      ]
    }
  ]
}