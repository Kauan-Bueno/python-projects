{
  "nbformat": 4,
  "nbformat_minor": 0,
  "metadata": {
    "colab": {
      "provenance": [],
      "authorship_tag": "ABX9TyPBJI3+sY/mJ/OxS1Juog8I"
    },
    "kernelspec": {
      "name": "python3",
      "display_name": "Python 3"
    },
    "language_info": {
      "name": "python"
    }
  },
  "cells": [
    {
      "cell_type": "code",
      "execution_count": null,
      "metadata": {
        "id": "TKKza_h2C9xy",
        "colab": {
          "base_uri": "https://localhost:8080/"
        },
        "outputId": "4f39f502-63e5-4779-e41a-9193df2d7195"
      },
      "outputs": [
        {
          "output_type": "stream",
          "name": "stdout",
          "text": [
            "Digite sua idade: 36\n",
            "Categoria Master\n"
          ]
        }
      ],
      "source": [
        "#Ex1\n",
        "idade = int(input(\"Digite sua idade: \"))\n",
        "\n",
        "if idade <= 15: print(\"Categoria Infantojuvenil\")\n",
        "elif idade <= 17: print(\"Categoria Juvenil\")\n",
        "elif idade <= 25: print(\"Categoria Adulto\")\n",
        "else: print(\"Categoria Master\")"
      ]
    },
    {
      "cell_type": "code",
      "source": [
        "#Ex2\n",
        "num1 = str(input(\"DIgite o primeiro número: \"))\n",
        "num2 = str(input(\"DIgite o segundo número: \"))\n",
        "num3 = str(input(\"DIgite o terceiro número: \"))\n",
        "\n",
        "if num1 == num2 and num1 == num3: print(\"Os números são iguais\")\n",
        "elif num1 > num2 and num1 > num3: print(\"O maior número é: \" + num1)\n",
        "elif num2 > num1 and num2 > num3: print(\"O maior número é: \" + num2)\n",
        "else: print(\"O maior número é: \" + num3)"
      ],
      "metadata": {
        "colab": {
          "base_uri": "https://localhost:8080/"
        },
        "id": "7-p0rhcIFnNO",
        "outputId": "b2a81b80-33f8-46db-a632-ae7d9995ac81"
      },
      "execution_count": null,
      "outputs": [
        {
          "output_type": "stream",
          "name": "stdout",
          "text": [
            "DIgite o primeiro número: 4\n",
            "DIgite o segundo número: 8\n",
            "DIgite o terceiro número: 3\n",
            "O maior número é: 8\n"
          ]
        }
      ]
    },
    {
      "cell_type": "code",
      "source": [
        "#Ex3\n",
        "num = int(input(\"Digite um número inteiro: \"))\n",
        "\n",
        "if num % 2 == 0:\n",
        "  print(\"O número é par\")\n",
        "\n",
        "else: print(\"O número é impar\")"
      ],
      "metadata": {
        "colab": {
          "base_uri": "https://localhost:8080/"
        },
        "id": "meX-rYGcIRRf",
        "outputId": "5b604188-d082-4d57-9c11-2aeedbcaf3d3"
      },
      "execution_count": null,
      "outputs": [
        {
          "output_type": "stream",
          "name": "stdout",
          "text": [
            "Digite um número inteiro: 7\n",
            "O número é impar\n"
          ]
        }
      ]
    },
    {
      "cell_type": "code",
      "source": [
        "#Ex4\n",
        "dist = float(input(\"Insira a distância que seseja percorrer em km: \"))\n",
        "\n",
        "if (dist <= 200):\n",
        "  preco = (dist * 0.5)\n",
        "\n",
        "else:\n",
        "  preco = (dist * 0.45)\n",
        "\n",
        "print(\"O preço da passagem é: \" , preco , \"reais\")"
      ],
      "metadata": {
        "colab": {
          "base_uri": "https://localhost:8080/"
        },
        "id": "4u6fRuOMKNe3",
        "outputId": "7ea5560a-da15-46c5-f437-20c67f1bd0cf"
      },
      "execution_count": null,
      "outputs": [
        {
          "output_type": "stream",
          "name": "stdout",
          "text": [
            "Insira a distância que seseja percorrer em km: 150\n",
            "O preço da passagem é:  75.0 reais\n"
          ]
        }
      ]
    },
    {
      "cell_type": "code",
      "source": [
        "#Ex5\n",
        "num1 = float(input(\"Digite o primeiro número: \"))\n",
        "num2 = float(input(\"Digite o segundo número: \"))\n",
        "\n",
        "print(\"Operações disponíveis: multiplicação e divisão\")\n",
        "print(\"Digite 1 para multiplicação e 2 para divisão\")\n",
        "conta = int(input(\"Escolha uma operação: \"))\n",
        "\n",
        "if conta == 1:\n",
        "  resultado = num1 * num2\n",
        "  print(\"O resultado é: \",resultado)\n",
        "\n",
        "elif conta == 2:\n",
        "  resultado = num1 / num2\n",
        "  print(\"O resultado é: \",resultado)\n",
        "\n",
        "else:\n",
        "  print(\"Operação indisponível ou inválida!\")"
      ],
      "metadata": {
        "colab": {
          "base_uri": "https://localhost:8080/"
        },
        "id": "NXucNPO_MPP3",
        "outputId": "26269b27-2f6b-43b5-8616-f696778d8e76"
      },
      "execution_count": null,
      "outputs": [
        {
          "output_type": "stream",
          "name": "stdout",
          "text": [
            "Digite o primeiro número: 5\n",
            "Digite o segundo número: 5\n",
            "Operações disponíveis: multiplicação e divisão\n",
            "Digite 1 para multiplicação e 2 para divisão\n",
            "Escolha uma operação: 1\n",
            "O resultado é:  25.0\n"
          ]
        }
      ]
    }
  ]
}